{
 "cells": [
  {
   "cell_type": "code",
   "execution_count": 1,
   "metadata": {},
   "outputs": [
    {
     "name": "stdout",
     "output_type": "stream",
     "text": [
      "scanpy==1.5.1 anndata==0.7.4 umap==0.4.6 numpy==1.17.5 scipy==1.5.2 pandas==1.0.5 scikit-learn==0.22.2.post1 statsmodels==0.11.1 python-igraph==0.8.2 louvain==0.7.0 leidenalg==0.8.2\n"
     ]
    }
   ],
   "source": [
    "from __future__ import absolute_import\n",
    "import warnings\n",
    "warnings.filterwarnings(\"ignore\")\n",
    "\n",
    "import sys\n",
    "import os\n",
    "import itertools\n",
    "import scanpy as sc\n",
    "\n",
    "sc.settings.verbosity = 3             # verbosity: errors (0), warnings (1), info (2), hints (3)\n",
    "sc.logging.print_versions()\n",
    "sc.settings.set_figure_params(dpi=80, facecolor='white')\n",
    "\n",
    "from pyvis.network import Network\n",
    "from scipy.io import mmread\n",
    "import pandas as pd\n",
    "import copy\n",
    "import numpy as np\n",
    "import matplotlib.pyplot as plt \n",
    "\n",
    "from pyscnet import Preprocessing as pp\n",
    "from pyscnet import BuildNet as bn\n",
    "from pyscnet import NetEnrich as ne\n",
    "from pyscnet import Plotting as pl\n",
    "pd.set_option('display.max_rows', 1000)\n",
    "\n"
   ]
  },
  {
   "cell_type": "code",
   "execution_count": 3,
   "metadata": {},
   "outputs": [],
   "source": [
    "adata = sc.read_mtx('/home/mwu/MING_V9T/PhD_Pro/SC_GRN_Pro/Merge_All_SCData/Tox_WT_KO/Tox_DF.mtx')\n",
    "adata.var = pd.read_csv('/home/mwu/MING_V9T/PhD_Pro/SC_GRN_Pro/Merge_All_SCData/Tox_WT_KO/Tox_DF_Gene.txt',)\n",
    "adata.obs = pd.read_csv('/home/mwu/MING_V9T/PhD_Pro/SC_GRN_Pro/Merge_All_SCData/Tox_WT_KO/Tox_Design.txt', sep=' ')\n",
    "\n",
    "adata.obs_names = adata.obs['CellName'].values\n",
    "adata.var_names = [x.upper() for x in adata.var['GeneName'].values]\n",
    "adata.var_names_make_unique()"
   ]
  },
  {
   "cell_type": "code",
   "execution_count": 4,
   "metadata": {},
   "outputs": [
    {
     "name": "stdout",
     "output_type": "stream",
     "text": [
      "filtered out 100 cells that have less than 500 genes expressed\n",
      "filtered out 19598 genes that are detected in less than 100 cells\n",
      "normalizing counts per cell\n",
      "    finished (0:00:00)\n",
      "extracting highly variable genes\n",
      "    finished (0:00:00)\n",
      "--> added\n",
      "    'highly_variable', boolean vector (adata.var)\n",
      "    'means', float vector (adata.var)\n",
      "    'dispersions', float vector (adata.var)\n",
      "    'dispersions_norm', float vector (adata.var)\n"
     ]
    }
   ],
   "source": [
    "#preprocessing\n",
    "sc.pp.filter_cells(adata, min_genes=500)\n",
    "sc.pp.filter_genes(adata, min_cells=100)\n",
    "adata.var['mt'] = adata.var_names.str.startswith('MT-')  # annotate the group of mitochondrial genes as 'mt'\n",
    "sc.pp.calculate_qc_metrics(adata, qc_vars=['mt'], percent_top=None, log1p=False, inplace=True)\n",
    "\n",
    "adata = adata[adata.obs.n_genes_by_counts < 9000, :]\n",
    "adata = adata[adata.obs.pct_counts_mt < 5, :]\n",
    "sc.pp.normalize_total(adata, target_sum=1e4)\n",
    "sc.pp.log1p(adata)\n",
    "sc.pp.highly_variable_genes(adata, min_mean=0.3, max_mean=5, min_disp=0.5)"
   ]
  },
  {
   "cell_type": "code",
   "execution_count": 5,
   "metadata": {},
   "outputs": [],
   "source": [
    "adata.X = adata.X.todense()\n",
    "tox_gne = pp.load_from_scanpy(adata)"
   ]
  },
  {
   "cell_type": "code",
   "execution_count": null,
   "metadata": {},
   "outputs": [],
   "source": [
    "cell_info = pd.read_excel('/home/mwu/MING_V9T/PhD_Pro/SC_GRN_Pro/Merge_All_SCData/Tox_WT_KO/Tox_WT/cell_state.xlsx').sort_values('Pseudotime', ascending=True)"
   ]
  },
  {
   "cell_type": "code",
   "execution_count": null,
   "metadata": {},
   "outputs": [],
   "source": [
    "#update cell annotation\n",
    "\n",
    "tmp = pd.merge(tox_gne.CellAttrs['CellInfo'], cell_info[['cell_names','seurat_clusters', 'Pseudotime']],\n",
    "              left_on=['CellName'], right_on= ['cell_names'], how='left').fillna(100)\n",
    "\n",
    "tmp.index = list(tmp.CellName)\n",
    "tox_gne.CellAttrs['CellInfo'] = tmp\n"
   ]
  },
  {
   "cell_type": "code",
   "execution_count": null,
   "metadata": {},
   "outputs": [],
   "source": [
    "\n",
    "# feature = adata.var[adata.var.highly_variable == True].GeneName\n",
    "# len(feature)"
   ]
  },
  {
   "cell_type": "code",
   "execution_count": null,
   "metadata": {},
   "outputs": [],
   "source": [
    "#select cell and features for GRN\n",
    "# cell_info = tox_gne.CellAttrs['CellInfo']\n",
    "# cell = list(cell_info.loc[cell_info['Condition'].isin([('Tox_KO')])].index)\n",
    "# len(cell)\n",
    "\n",
    "\n",
    "cell = list(cell_info.loc[cell_info['seurat_clusters'].isin(['2']), 'cell_names'])\n",
    "cell = list(set(cell) & set(tox_gne.ExpMatrix.columns))\n",
    "len(cell)"
   ]
  },
  {
   "cell_type": "code",
   "execution_count": 2,
   "metadata": {},
   "outputs": [],
   "source": [
    "Mms = pd.read_excel('/home/mwu/Downloads/supplementary_table_12_Ontogenet_Candidate_regulators.xls',header=1, skiprows=1)"
   ]
  },
  {
   "cell_type": "code",
   "execution_count": 6,
   "metadata": {},
   "outputs": [
    {
     "data": {
      "text/plain": [
       "53"
      ]
     },
     "execution_count": 6,
     "metadata": {},
     "output_type": "execute_result"
    }
   ],
   "source": [
    "# adata.var_names = [x.upper() for x in adata.var_names]\n",
    "hvg = adata.var[adata.var.highly_variable == True]['GeneName']\n",
    "feature = [x.upper() for x in hvg]\n",
    "TF = list(set(Mms.Regulator) & set([x.upper() for x in hvg]))\n",
    "len(TF)"
   ]
  },
  {
   "cell_type": "code",
   "execution_count": null,
   "metadata": {},
   "outputs": [],
   "source": [
    "# Set window size to compute moving window synchrony.\n",
    "r_window_size = 100\n",
    "subExpr = tox_gne.ExpMatrix.loc[feature, cell]\n",
    "df = subExpr.T\n",
    "genes = ['Tox', 'Tcf7']\n",
    "# Interpolate missing data.\n",
    "df_interpolated = df.interpolate()\n",
    "# Compute rolling window synchrony\n",
    "rolling_r = df_interpolated[genes[0]].rolling(window=r_window_size, center=True).corr(df_interpolated[genes[1]])\n",
    "f,ax=plt.subplots(2,1,figsize=(14,6),sharex=True)\n",
    "df[genes].rolling(window=r_window_size,center=True).mean().plot(ax=ax[0])\n",
    "ax[0].set(xlabel='Frame',ylabel='Expression level')\n",
    "rolling_r.plot(ax=ax[1])\n",
    "ax[1].set(xlabel='Frame',ylabel='Pearson r')\n",
    "plt.suptitle(\"pairwise gene and rolling window correlation\")"
   ]
  },
  {
   "cell_type": "code",
   "execution_count": null,
   "metadata": {},
   "outputs": [],
   "source": [
    "\n",
    "methods_list = ['GRNBOOST2', 'window_rolling', 'phase_synchrony', 'CORR', 'GENIE3', 'PIDC']\n",
    "for method in methods_list:\n",
    "    if method in ['window_rolling', 'phase_synchrony']:\n",
    "        tox_gne = bn.get_synchrony(tox_gne.deepcopy, method=method,\n",
    "                                      feature=feature, cell=cell)\n",
    "    else:\n",
    "        tox_gne = bn.rundocker(tox_gne.deepcopy, method=method,\n",
    "                                      feature=feature, cell=cell, directed=False)\n",
    "        "
   ]
  },
  {
   "cell_type": "markdown",
   "metadata": {},
   "source": [
    "<!-- # tox_gne = pp.load_Gnetdata_object('data/pyscnet_tox_WT_C1_TF.pk')\n",
    "merge_links = tox_gne.NetAttrs[methods_list[0]+'_links']\n",
    "merge_links.index = merge_links.source + '_' + merge_links.target\n",
    "merge_links = merge_links.rename(columns={'weight': 'C3_' + methods_list[0] + '_weight'})\n",
    "\n",
    "methods_list = ['GENIE3', 'PIDC', 'GRNBOOST2']\n",
    "for i in range(1, len(methods_list)):\n",
    "    tmp = tox_gne.NetAttrs[methods_list[i] + '_links'].rename(columns={'weight': 'C3_' + methods_list[i] + '_weight'})\n",
    "    tmp.index = tmp.source + '_' + tmp.target\n",
    "    merge_links = pd.concat([merge_links, tmp.iloc[:,2]], axis=1, join='outer') -->"
   ]
  },
  {
   "cell_type": "markdown",
   "metadata": {},
   "source": [
    "<!-- dup = list()\n",
    "for i in range(merge_links.shape[0]):\n",
    "    tmp = str(merge_links.target[i]) + '_' + str(merge_links.source[i])\n",
    "    if tmp in merge_links.index:\n",
    "        dup.append(i)\n",
    "        index = list(merge_links.index).index(tmp)\n",
    "        merge_links.loc[tmp] = merge_links.loc[[tmp, merge_links.index[i]]].mean()\n",
    "        \n",
    "merge_links = merge_links.drop(merge_links.index[i] for i in dup).fillna(0)\n",
    "merge_links['gene_pair'] = merge_links.index\n",
    "merge_links.iloc[:, [5, 2, 3, 4]].to_csv('/home/mwu/Desktop/C3_GRN_HVG_TF.csv', index=False) -->"
   ]
  },
  {
   "cell_type": "code",
   "execution_count": null,
   "metadata": {},
   "outputs": [],
   "source": [
    "#Identify consensus links\n",
    "\n",
    "tox_gne = ne.find_consensus_graph(tox_gne, link_key=['GENIE3_links', 'PIDC_links', 'GRNBOOST2_links', \n",
    "                                                     'phase_synchrony_links', 'CORR_links'],\n",
    "                                 method='intersection', toprank=500000)"
   ]
  },
  {
   "cell_type": "code",
   "execution_count": null,
   "metadata": {},
   "outputs": [],
   "source": [
    "#build graph\n",
    "\n",
    "tox_gne = ne.buildnet(tox_gne, key_links='consensus_links', top=39342)\n",
    "\n",
    "#calculate node centrality\n",
    "tox_gne = ne.get_centrality(tox_gne)\n",
    "\n",
    "#detect gene community\n",
    "tox_gne = ne.detect_community(tox_gne)"
   ]
  },
  {
   "cell_type": "code",
   "execution_count": null,
   "metadata": {},
   "outputs": [],
   "source": [
    "new_app = pl.create_app(gnetdata=tox_gne, grn_method='consensus_links', top_links=100, resolution=0.5)\n",
    "new_app"
   ]
  },
  {
   "cell_type": "markdown",
   "metadata": {},
   "source": [
    "<!-- node = 'Tox'\n",
    "random_path = ne.random_walk(tox_gne, start = node, supervisedby='degree', steps=5)\n",
    "random_path\n",
    " -->"
   ]
  },
  {
   "cell_type": "code",
   "execution_count": null,
   "metadata": {},
   "outputs": [],
   "source": [
    "pl.dynamic_netShow(tox_gne, filename='/home/mwu/Desktop/network_dynamics.html')"
   ]
  },
  {
   "cell_type": "code",
   "execution_count": null,
   "metadata": {},
   "outputs": [],
   "source": [
    "from pyscnet.Plotting import net_plot as npl\n",
    "\n",
    "plt.switch_backend(\"cairo\")\n",
    "fig, ax = plt.subplots(1, 2, figsize=(40, 18))\n",
    "# npl.net_matrix_plot(stream_gne, output_size=(500, 500), vertex_text_position=-2, vertex_font_size=5)\n",
    "pl.net_hierarchy_plot(tox_gne, vertex_text_position=-2, vertex_size=0.2,  vertex_font_size=0.05, mplfig=ax[0])\n",
    "pl.net_matrix_plot(tox_gne, vertex_text_position=-2, vertex_size=0.8,  vertex_font_size=0.2, mplfig=ax[1])\n",
    "ax[0].axis('off')\n",
    "ax[1].axis('off')\n",
    "fig.savefig('/home/mwu/Desktop/net_plots.pdf')"
   ]
  },
  {
   "cell_type": "code",
   "execution_count": null,
   "metadata": {},
   "outputs": [],
   "source": [
    "progenitor_Marker = pd.read_excel('/home/mwu/MING_V9T/PhD_Pro/SC_GRN_Pro/Merge_All_SCData/Tox_WT_KO/Tox_WT/Cluster_3_Markergenes.xlsx')\n",
    "progenitor_Marker = progenitor_Marker[progenitor_Marker.p_val_adj < 0.05]"
   ]
  },
  {
   "cell_type": "code",
   "execution_count": null,
   "metadata": {},
   "outputs": [],
   "source": [
    "(list(set(Mms.Regulator) & set([x.upper() for x in progenitor_Marker.GeneName])))"
   ]
  },
  {
   "cell_type": "code",
   "execution_count": null,
   "metadata": {},
   "outputs": [],
   "source": [
    "node_centralities = tox_gne.NetAttrs['centralities']\n",
    "node_centralities['avg_centralities'] = node_centralities.mean(axis=1)\n",
    "node_centralities.head()\n",
    "# node_centralities.to_excel('/home/mwu/Desktop/EnsembelNet_Top200_node_centralities.xlsx', index=False)"
   ]
  },
  {
   "cell_type": "code",
   "execution_count": 16,
   "metadata": {},
   "outputs": [],
   "source": [
    "#Target score system\n",
    "import networkx as nx\n",
    "def cal_score(Tnum, Gnum, Degree, m):\n",
    "    return (Gnum * pow(m,2) + Tnum * pow(Degree - m, 2))/(Gnum * Degree * Tnum)\n",
    "\n",
    "def tf_score(Net, TF_list, Gnum, Tnum):\n",
    "    TF_Score_1 = []\n",
    "    TF_Score_2 = []\n",
    "    for tf in TF_list:\n",
    "        neighbors = list(nx.neighbors(Net, tf))\n",
    "        m1 = len(set(neighbors) & set(TF_list))\n",
    "        TF_Score_1.append(cal_score(Tnum, Gnum, len(neighbors), m1))\n",
    "        score = 0\n",
    "        for n in neighbors:\n",
    "            sub_neighbors = list(nx.neighbors(Net, n))\n",
    "            Degree = len(sub_neighbors)\n",
    "            m2 = len(set(sub_neighbors) & set(TF_list))\n",
    "\n",
    "            score += cal_score(Tnum, Gnum, Degree, m2)\n",
    "            \n",
    "        TF_Score_2.append(score)\n",
    "    \n",
    "    TF_Score_df = pd.DataFrame(list(zip(TF_list, TF_Score_1, TF_Score_2)), \n",
    "                               columns=['TF_Name', 'first_layer_score', 'second_layer_score'])\n",
    "#     TF_Score_df['avg_score'] = TF_Score_df.mean(axis=1)\n",
    "    return TF_Score_df\n",
    "    "
   ]
  },
  {
   "cell_type": "code",
   "execution_count": 20,
   "metadata": {},
   "outputs": [],
   "source": [
    "TF_list = list(set(TF) & set(list(tox_gne.NetAttrs['graph'].nodes)))\n",
    "Gnum = len(list(tox_gne.NetAttrs['graph'].nodes)) - len(TF_list)\n",
    "Tnum = len(TF_list)\n",
    "\n",
    "TF_Score_df = tf_score(tox_gne.NetAttrs['graph'], TF_list, Gnum, Tnum)\n",
    "TF_Score_df.to_excel('/home/mwu/Desktop/TF_Score_Cluster3.xlsx', index=False)"
   ]
  },
  {
   "cell_type": "code",
   "execution_count": 28,
   "metadata": {},
   "outputs": [
    {
     "data": {
      "image/png": "[encoded data removed]",
      "text/plain": [
       "<Figure size 1008x576 with 1 Axes>"
      ]
     },
     "metadata": {
      "needs_background": "light"
     },
     "output_type": "display_data"
    }
   ],
   "source": [
    "#create scatter plot\n",
    "import matplotlib.lines as mlines\n",
    "Effector_Score = pd.read_excel('/home/mwu/Desktop/TF_Score_Effector.xlsx')\n",
    "Progenitor_Score = pd.read_excel('/home/mwu/Desktop/TF_Score_Progenitor.xlsx')\n",
    "\n",
    "fig = plt.figure(figsize=(14,8))\n",
    "\n",
    "plt.scatter(Effector_Score.avg_rank, Progenitor_Score.avg_rank, alpha=0.2)\n",
    "plt.plot(np.arange(0, 55), np.arange(0, 55), 'r--')\n",
    "\n",
    "plt.xlabel('Effector_rank_score')\n",
    "plt.ylabel('Progenitor_rank_score')\n",
    "\n",
    "\n",
    "for i in range(len(Effector_Score.avg_rank)):\n",
    "\n",
    "    plt.annotate(Effector_Score.TF_Name[i], \n",
    "                 (Effector_Score.avg_rank[i], Progenitor_Score.avg_rank[i]),\n",
    "                 textcoords=\"offset points\", \n",
    "                 xytext=(0,10), \n",
    "                 ha='center') \n",
    "\n",
    "plt.savefig('/home/mwu/Desktop/TF_Score_plot.pdf')"
   ]
  },
  {
   "cell_type": "code",
   "execution_count": 29,
   "metadata": {},
   "outputs": [],
   "source": [
    "\n",
    "Effector_Score.to_excel('/home/mwu/Desktop/TF_Score_Effector.xlsx', index=False)"
   ]
  },
  {
   "cell_type": "code",
   "execution_count": 19,
   "metadata": {},
   "outputs": [],
   "source": [
    "# tox_gne = pp.load_Gnetdata_object('/home/mwu/Desktop/Tox_WT_C3_ImmunGenTF.pk')\n",
    "tox_gne = pp.load_Gnetdata_object('/home/mwu/Desktop/Tox_WT_Cluster3_HVG.pk')"
   ]
  }
 ],
 "metadata": {
  "kernelspec": {
   "display_name": "stream",
   "language": "python",
   "name": "stream"
  },
  "language_info": {
   "codemirror_mode": {
    "name": "ipython",
    "version": 3
   },
   "file_extension": ".py",
   "mimetype": "text/x-python",
   "name": "python",
   "nbconvert_exporter": "python",
   "pygments_lexer": "ipython3",
   "version": "3.6.11"
  }
 },
 "nbformat": 4,
 "nbformat_minor": 4
}
