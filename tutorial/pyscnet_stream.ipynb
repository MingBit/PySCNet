{
 "cells": [
  {
   "cell_type": "markdown",
   "metadata": {},
   "source": [
    "# PySCNet: A tool for reconstructing and analyzing gene regulatory network from single-cell RNA-Seq data\n",
    "\n",
    "PySCNet includes four modules:\n",
    "\n",
    "1) **Pro-precessing**: initialize a gnetData object consisting of Expression Matrix, Cell Attributes, Gene Attributes and Network Attributes; <br/>\n",
    "2) **BuildNet**: reconstruct GRNs by various methods implemented in docker;<br/>\n",
    "3) **NetEnrich**: network analysis including consensus network detection, gene module identification and trigger path prediction as well as network fusion;<br/>\n",
    "4) **Visulization**: network illustration.<br/>\n",
    "\n",
    "A python package - [STREAM](https://github.com/pinellolab/STREAM) was designed for reconstructing cell trajectory for single cell transcriptomic data. This tutorial guides how to integrate STREAM with pyscnet for gene regulatory network along the cell differential trajectory.\n"
   ]
  },
  {
   "cell_type": "code",
   "execution_count": 165,
   "metadata": {},
   "outputs": [
    {
     "name": "stdout",
     "output_type": "stream",
     "text": [
      "scanpy==1.5.1 anndata==0.7.4 umap==0.4.6 numpy==1.19.1 scipy==1.5.1 pandas==1.0.5 scikit-learn==0.23.1 statsmodels==0.11.1\n"
     ]
    }
   ],
   "source": [
    "from __future__ import absolute_import\n",
    "import warnings\n",
    "warnings.filterwarnings(\"ignore\")\n",
    "\n",
    "import sys\n",
    "import os\n",
    "import itertools\n",
    "import scanpy as sc\n",
    "\n",
    "sc.settings.verbosity = 3             # verbosity: errors (0), warnings (1), info (2), hints (3)\n",
    "sc.logging.print_versions()\n",
    "sc.settings.set_figure_params(dpi=60, facecolor='white')\n",
    "\n",
    "from pyvis.network import Network\n",
    "import pandas as pd\n",
    "import copy\n",
    "import numpy as np\n",
    "from pyscnet.Preprocessing import gnetdata\n",
    "from pyscnet.BuildNet import gne_dockercaller as gdocker\n",
    "from pyscnet.NetEnrich import graph_toolkit as gt\n",
    "from pyscnet.Plotting import show_net as sn"
   ]
  },
  {
   "cell_type": "markdown",
   "metadata": {},
   "source": [
    "### Data resource\n",
    "Data was obtained from [Nestorowa, S. et al](https://doi.org/10.1182/blood-2016-05-716480). The cell trajectory was build according to [STREAM Tutorial](https://nbviewer.jupyter.org/github/pinellolab/STREAM/blob/master/tutorial/1.1.STREAM_scRNA-seq%20%28Bifurcation%29.ipynb?flush_cache=true). As STREAM is also built on AnnData structure. It can be directly imported into pyscnet."
   ]
  },
  {
   "cell_type": "code",
   "execution_count": 2,
   "metadata": {},
   "outputs": [
    {
     "name": "stderr",
     "output_type": "stream",
     "text": [
      "/home/mwu/miniconda3/envs/stream/lib/python3.7/site-packages/rpy2/robjects/pandas2ri.py:17: FutureWarning: pandas.core.index is deprecated and will be removed in a future version.  The public classes are available in the top-level namespace.\n",
      "  from pandas.core.index import Index as PandasIndex\n"
     ]
    },
    {
     "name": "stdout",
     "output_type": "stream",
     "text": [
      "Working directory is already specified as './result' \n",
      "To change working directory, please run set_workdir(adata,workdir=new_directory)\n"
     ]
    }
   ],
   "source": [
    "#the file is too large\n",
    "# import _pickle as pk\n",
    "# with open('data/stream_adata.pk', 'rb') as input:\n",
    "#     adata = pk.load(input)\n",
    "\n",
    "import stream as st\n",
    "adata = st.read('data/stream_adata.pklz')\n"
   ]
  },
  {
   "cell_type": "code",
   "execution_count": 3,
   "metadata": {},
   "outputs": [
    {
     "data": {
      "text/plain": [
       "AnnData object with n_obs × n_vars = 1656 × 35077\n",
       "    obs: 'label', 'label_color', 'n_counts', 'n_genes', 'pct_genes', 'pct_mt', 'kmeans', 'node', 'branch_id', 'branch_id_alias', 'branch_lam', 'branch_dist', 'S0_pseudotime', 'S3_pseudotime', 'S1_pseudotime', 'S2_pseudotime'\n",
       "    var: 'n_counts', 'n_cells', 'pct_cells'\n",
       "    uns: 'workdir', 'label_color', 'assay', 'var_genes', 'trans_se', 'params', 'epg', 'flat_tree', 'seed_epg', 'seed_flat_tree', 'ori_epg', 'epg_obj', 'ori_epg_obj', 'branch_id_alias_color', 'stream_S3', 'scaled_marker_expr', 'leaf_markers_all', 'leaf_markers', 'transition_markers', 'de_markers_greater', 'de_markers_less', 'markers_label_all', 'markers_label', 'pca', 'neighbors', 'umap', 'label_colors'\n",
       "    obsm: 'var_genes', 'X_se', 'X_dr', 'X_spring', 'X_stream_S3', 'X_pca', 'X_umap'\n",
       "    varm: 'PCs'\n",
       "    obsp: 'distances', 'connectivities'"
      ]
     },
     "execution_count": 3,
     "metadata": {},
     "output_type": "execute_result"
    }
   ],
   "source": [
    "#\n",
    "adata"
   ]
  },
  {
   "cell_type": "code",
   "execution_count": 6,
   "metadata": {},
   "outputs": [],
   "source": [
    "stream_gne = gnetdata.load_from_scanpy(adata)"
   ]
  },
  {
   "cell_type": "code",
   "execution_count": 7,
   "metadata": {},
   "outputs": [],
   "source": [
    "# adata.uns['leaf_markers'][('S1', 'S2')].index\n",
    "cell_info = stream_gne.CellAttrs['CellInfo']\n",
    "cell = list(cell_info.loc[cell_info['branch_id_alias'].isin([\"('S2', 'S1')\"])].index)"
   ]
  },
  {
   "cell_type": "code",
   "execution_count": 8,
   "metadata": {},
   "outputs": [
    {
     "name": "stdout",
     "output_type": "stream",
     "text": [
      "GENIE3_links added into NetAttrs\n",
      "PIDC_links added into NetAttrs\n",
      "CORR_links added into NetAttrs\n",
      "GRNBOOST2_links added into NetAttrs\n"
     ]
    }
   ],
   "source": [
    "stream_gne = gdocker.rundocker(stream_gne.deepcopy, method='GENIE3', \n",
    "                               feature=adata.uns['leaf_markers'][('S1', 'S2')].index,\n",
    "                              cell_clusterid=\"('S2', 'S1')\", select_by='branch_id_alias')\n",
    "\n",
    "stream_gne = gdocker.rundocker(stream_gne.deepcopy, method='PIDC', \n",
    "                               feature=adata.uns['leaf_markers'][('S1', 'S2')].index,\n",
    "                              cell_clusterid=\"('S2', 'S1')\", select_by='branch_id_alias')\n",
    "\n",
    "stream_gne = gdocker.rundocker(stream_gne.deepcopy, method='CORR', \n",
    "                               feature=adata.uns['leaf_markers'][('S1', 'S2')].index,\n",
    "                              cell_clusterid=\"('S2', 'S1')\", select_by='branch_id_alias')\n",
    "\n",
    "stream_gne = gdocker.rundocker(stream_gne.deepcopy, method='GRNBOOST2', \n",
    "                               feature=adata.uns['leaf_markers'][('S1', 'S2')].index,\n",
    "                              cell_clusterid=\"('S2', 'S1')\", select_by='branch_id_alias')"
   ]
  },
  {
   "cell_type": "code",
   "execution_count": 21,
   "metadata": {},
   "outputs": [
    {
     "name": "stdout",
     "output_type": "stream",
     "text": [
      "there are 111 consensus edges found!\n",
      "graph added into NetAttrs\n"
     ]
    }
   ],
   "source": [
    "#find consensus links based on ensemble classification\n",
    "stream_gne = gt.find_consensus_graph(stream_gne, method='ensemble', threshold=5)\n",
    "\n",
    "#build graph for consensus links\n",
    "stream_gne = gdocker.buildnet(stream_gne, key_links='consensus')"
   ]
  },
  {
   "cell_type": "code",
   "execution_count": 54,
   "metadata": {},
   "outputs": [],
   "source": [
    "# stream_gne.NetAttrs['consensus']\n"
   ]
  },
  {
   "cell_type": "code",
   "execution_count": 194,
   "metadata": {},
   "outputs": [],
   "source": []
  },
  {
   "cell_type": "code",
   "execution_count": null,
   "metadata": {},
   "outputs": [],
   "source": []
  },
  {
   "cell_type": "code",
   "execution_count": null,
   "metadata": {},
   "outputs": [],
   "source": []
  },
  {
   "cell_type": "code",
   "execution_count": null,
   "metadata": {},
   "outputs": [],
   "source": []
  },
  {
   "cell_type": "code",
   "execution_count": null,
   "metadata": {},
   "outputs": [],
   "source": []
  },
  {
   "cell_type": "code",
   "execution_count": null,
   "metadata": {},
   "outputs": [],
   "source": []
  },
  {
   "cell_type": "code",
   "execution_count": null,
   "metadata": {},
   "outputs": [],
   "source": []
  }
 ],
 "metadata": {
  "kernelspec": {
   "display_name": "stream",
   "language": "python",
   "name": "stream"
  },
  "language_info": {
   "codemirror_mode": {
    "name": "ipython",
    "version": 3
   },
   "file_extension": ".py",
   "mimetype": "text/x-python",
   "name": "python",
   "nbconvert_exporter": "python",
   "pygments_lexer": "ipython3",
   "version": "3.7.7"
  }
 },
 "nbformat": 4,
 "nbformat_minor": 4
}
